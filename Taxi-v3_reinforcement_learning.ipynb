{
 "cells": [
  {
   "cell_type": "markdown",
   "id": "98f0c09f",
   "metadata": {},
   "source": [
    "### Goal:\n",
    "###### We choose the Taxi-v3 environment for the Gymnasuim which is a standard API for reinforcement learning, and a diverse collection of reference environments.\n",
    "###### We will use the Q-Learning algorithm to move the taxi to the passenger’s location, pick up the passenger, move to the passenger’s desired destination, and drop off the passenger. Once the passenger is dropped off, the episode ends.\n",
    "\n",
    "![](taxi-v3_gymnasium.gif)"
   ]
  },
  {
   "cell_type": "markdown",
   "id": "4386882b",
   "metadata": {},
   "source": [
    "### Description\n",
    "There are four designated pick-up and drop-off locations (Red, Green, Yellow and Blue) in the 5x5 grid world. The taxi starts off at a random square and the passenger at one of the designated locations.\n",
    "\n",
    "The goal is move the taxi to the passenger’s location, pick up the passenger, move to the passenger’s desired destination, and drop off the passenger. Once the passenger is dropped off, the episode ends.\n",
    "\n",
    "The player receives positive rewards for successfully dropping-off the passenger at the correct location. Negative rewards for incorrect attempts to pick-up/drop-off passenger and for each step where another reward is not received.\n",
    "\n",
    "For more details please visit the link: https://gymnasium.farama.org/environments/toy_text/taxi/\n"
   ]
  },
  {
   "cell_type": "markdown",
   "id": "6a3c2da7",
   "metadata": {},
   "source": [
    "### Q learning equation:\n",
    "![](Q_learning_equation.png)\n"
   ]
  },
  {
   "cell_type": "markdown",
   "id": "a77c8f82",
   "metadata": {},
   "source": [
    "### Import librairies"
   ]
  },
  {
   "cell_type": "code",
   "execution_count": 6,
   "id": "327cac99",
   "metadata": {},
   "outputs": [],
   "source": [
    "import numpy as np\n",
    "import pygame\n",
    "import gymnasium as gym\n",
    "import time\n",
    "import pickle"
   ]
  },
  {
   "cell_type": "code",
   "execution_count": 3,
   "id": "a0f3b552",
   "metadata": {},
   "outputs": [],
   "source": [
    "pygame.init()\n",
    "\n",
    "# Work with the Taxi-v3 enviromnent\n",
    "env = gym.make('Taxi-v3', render_mode='human')\n",
    "\n",
    "# Constants\n",
    "alpha = .8\n",
    "gamma = .9\n",
    "epochs = 1000\n",
    "final_reward = 20"
   ]
  },
  {
   "cell_type": "code",
   "execution_count": 4,
   "id": "a1bba259",
   "metadata": {},
   "outputs": [],
   "source": [
    "def Qmax(state, info):\n",
    "    ''' Function to get the maximum Q value,and its associed action \n",
    "    for a given state'''\n",
    "    \n",
    "    possible_actions = np.where(info['action_mask'] == 1)[0]\n",
    "    Qmax_value = max(Q[state, possible_actions])\n",
    "    \n",
    "    for action in possible_actions:\n",
    "        if Q[state, action] == Qmax_value:\n",
    "            chosen_action = action\n",
    "            \n",
    "    return Qmax_value, chosen_action"
   ]
  },
  {
   "cell_type": "markdown",
   "id": "5cba4090",
   "metadata": {},
   "source": [
    "### Training the Q-Algorithm"
   ]
  },
  {
   "cell_type": "code",
   "execution_count": 2,
   "id": "3f1b3cb4",
   "metadata": {
    "scrolled": true
   },
   "outputs": [
    {
     "name": "stdout",
     "output_type": "stream",
     "text": [
      "\n"
     ]
    }
   ],
   "source": [
    "nbr_states = env.observation_space.n\n",
    "nbr_actions = env.action_space.n\n",
    "\n",
    "Q = np.zeros((nbr_states, nbr_actions))\n",
    "\n",
    "start_time = time.time() # for get the training time\n",
    "for epoch in range(epochs):\n",
    "    init_state, info = env.reset()\n",
    "    state = init_state\n",
    "    \n",
    "    total_reward = 0\n",
    "    reward = 0\n",
    "\n",
    "    while reward != final_reward:\n",
    "\n",
    "        action = Qmax(state, info)[1]\n",
    "        next_state, reward, _, _, info = env.step(action)\n",
    "        Qmax_value = Qmax(next_state, info)[0]\n",
    "\n",
    "        Q[state, action] = Q[state, action] + alpha * (reward + gamma * Qmax_value - Q[state, action])\n",
    "\n",
    "        state = next_state\n",
    "        total_reward += reward\n",
    "    \n",
    "    print(f'Total rewared after epoch {epoch + 1}: {total_reward}')\n",
    "\n",
    "end_time = time.time()\n",
    "train_time = end_time - start_time\n",
    "print(f'The training time is {train_time} seconds')\n",
    "\n",
    "env.close()"
   ]
  },
  {
   "cell_type": "markdown",
   "id": "dde8ba5d",
   "metadata": {},
   "source": [
    "### Test the algorithm"
   ]
  },
  {
   "cell_type": "code",
   "execution_count": 10,
   "id": "c26a202c",
   "metadata": {},
   "outputs": [
    {
     "name": "stdout",
     "output_type": "stream",
     "text": [
      "Total rewared is: 5\n"
     ]
    }
   ],
   "source": [
    "# For the test, we had saved the Q value matrix in pickle file \n",
    "# We don't need to train the algorithm each time, to get the right value of Q matrix\n",
    "pygame.init()\n",
    "\n",
    "env = gym.make('Taxi-v3', render_mode='human')\n",
    "\n",
    "init_state, info = env.reset()\n",
    "state = init_state\n",
    "\n",
    "# Get the Q_value from the pickle file\n",
    "file = open('Q_matrix', 'rb')\n",
    "Q = pickle.load(file)\n",
    "file.close()\n",
    "\n",
    "reward = 0\n",
    "total_reward = 0\n",
    "\n",
    "while reward != final_reward:\n",
    "    action = Qmax(state, info)[1]\n",
    "    next_state, reward, _, _, info = env.step(action)\n",
    "    state = next_state\n",
    "    total_reward += reward\n",
    "\n",
    "print(f'Total rewared is: {total_reward}')\n",
    "\n",
    "env.close()"
   ]
  }
 ],
 "metadata": {
  "kernelspec": {
   "display_name": "tf_kernel",
   "language": "python",
   "name": "tf_kernel"
  },
  "language_info": {
   "codemirror_mode": {
    "name": "ipython",
    "version": 3
   },
   "file_extension": ".py",
   "mimetype": "text/x-python",
   "name": "python",
   "nbconvert_exporter": "python",
   "pygments_lexer": "ipython3",
   "version": "3.10.11"
  }
 },
 "nbformat": 4,
 "nbformat_minor": 5
}
